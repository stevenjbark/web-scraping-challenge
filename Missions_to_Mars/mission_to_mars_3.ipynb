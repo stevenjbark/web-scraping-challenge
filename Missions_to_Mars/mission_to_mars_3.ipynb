{
 "cells": [
  {
   "cell_type": "markdown",
   "metadata": {},
   "source": [
    "# Mission to Mars: Homework on Scraping and Web Analysis: Alternative Approach"
   ]
  },
  {
   "cell_type": "markdown",
   "metadata": {},
   "source": [
    "##Scrape https://mars.nasa.gov/news/ and collect News Titles and Paragraphs"
   ]
  },
  {
   "cell_type": "code",
   "execution_count": 83,
   "metadata": {},
   "outputs": [],
   "source": [
    "#Import dependencies. Will use pandas for processing, BeautifulSoup to grab data, requests to pull html text, and MongoDB\n",
    "#and Splinter for repository data storage.\n",
    "import pandas as pd\n",
    "from bs4 import BeautifulSoup as bs\n",
    "import requests\n",
    "import pymongo\n",
    "from splinter import Browser"
   ]
  },
  {
   "cell_type": "code",
   "execution_count": 84,
   "metadata": {},
   "outputs": [],
   "source": [
    "executable_path = {'executable_path': 'chromedriver.exe'}\n",
    "browser = Browser('chrome', **executable_path, headless=False)"
   ]
  },
  {
   "cell_type": "markdown",
   "metadata": {},
   "source": [
    "# 1. Mars News Articles"
   ]
  },
  {
   "cell_type": "markdown",
   "metadata": {},
   "source": [
    "### URL for collecting html data on Mars"
   ]
  },
  {
   "cell_type": "code",
   "execution_count": 3,
   "metadata": {},
   "outputs": [],
   "source": [
    "url = \"https://mars.nasa.gov/news\""
   ]
  },
  {
   "cell_type": "code",
   "execution_count": 4,
   "metadata": {},
   "outputs": [],
   "source": [
    "###Tried a request approach, but didn't give all of the data. Chris suggested splinter approach.\n",
    "###Setup response variables to collect url html data. Then convert to BeautifulSoup object and\n",
    "###extract the titles and teaser by 'div' and 'content_title' and 'rollover_description_inner'."
   ]
  },
  {
   "cell_type": "markdown",
   "metadata": {},
   "source": [
    "### Browser.visit to view URL "
   ]
  },
  {
   "cell_type": "code",
   "execution_count": 85,
   "metadata": {},
   "outputs": [],
   "source": [
    "browser.visit(url)"
   ]
  },
  {
   "cell_type": "code",
   "execution_count": 63,
   "metadata": {},
   "outputs": [],
   "source": [
    "#for x in range(1,11):\n",
    "\n",
    "#Following code from https://stackoverflow.com/questions/29773368/splinter-how-to-click-a-link-button-implemented-as-a-div-or-span-element\n",
    "    #button = browser.find_by_name('More')\n",
    "    #button.click()\n",
    "    #browser.click_link_by_partial_text('More')\n",
    "    \n",
    "#When using this code below, it only reloads the same page! Actual website loads more articles."
   ]
  },
  {
   "cell_type": "markdown",
   "metadata": {},
   "source": [
    "### Alternative approach: Grab data from 'li' tags as a list, then iterate to extract title, paragraph text, and reference for making a list of dictionaries suitable for MongoDB."
   ]
  },
  {
   "cell_type": "code",
   "execution_count": 74,
   "metadata": {},
   "outputs": [],
   "source": [
    "#Alternative try to grab <li> tags, which have all of the articles.\n",
    "#Then use iteration for loop to extract the title, teaser paragraph, and reference.\n",
    "#Empty list for appending dictionaries of data for articles.\n",
    "top_data = []\n",
    "\n",
    "#Iteration knowing 40 articles per page and target of 400 articles\n",
    "#for x in range(1,11):\n",
    "    \n",
    "html = browser.html\n",
    "soup = bs(html, 'html.parser')\n",
    "\n",
    "init_data = soup.find_all('li', class_='slide')\n",
    "\n",
    "#Construct a list of dictionaries with these data for incorporation into MongoDB. Include\n",
    "#'mars.nasa.gov' to enable direct use of the reference as a URL.\n",
    "for item in init_data:\n",
    "    title = item.find('div', class_='content_title').text\n",
    "    teaser = item.find('div', class_='rollover_description_inner').text\n",
    "    ref = 'mars.nasa.gov' + item.a['href']\n",
    "    \n",
    "    dictionary = {\n",
    "        'title': title,\n",
    "        'teaser': teaser,\n",
    "        'reference': ref  \n",
    "    }\n",
    "    \n",
    "    top_data.append(dictionary)\n",
    "\n",
    "#Following code from https://stackoverflow.com/questions/29773368/splinter-how-to-click-a-link-button-implemented-as-a-div-or-span-element\n",
    "#button = browser.find_by_name('More')\n",
    "#button.click()\n",
    "#browser.click_link_by_text('More')\n",
    "#browser.click_link_by_partial_text('More')\n",
    "\n",
    "#Link address for \"More\" button   \n",
    "#https://mars.nasa.gov/news/?page=0&per_page=40&order=publish_date+desc%2Ccreated_at+desc&search=&category=19%2C165%2C184%2C204&blank_scope=Latest#    \n",
    "\n",
    "#This range/browser.click_link for 'More' didn't seem to work. I was able to manually\n",
    "#click the More link and obtain a lot more articles. There should be a way to adapt\n",
    "#the click_link_by_partial_text('More') to obtain a given number of articles."
   ]
  },
  {
   "cell_type": "markdown",
   "metadata": {},
   "source": [
    "### Check top_data list of dictionaries to confirm formatting and data"
   ]
  },
  {
   "cell_type": "code",
   "execution_count": 75,
   "metadata": {},
   "outputs": [
    {
     "data": {
      "text/plain": [
       "200"
      ]
     },
     "execution_count": 75,
     "metadata": {},
     "output_type": "execute_result"
    }
   ],
   "source": [
    "len(top_data)"
   ]
  },
  {
   "cell_type": "code",
   "execution_count": 76,
   "metadata": {},
   "outputs": [
    {
     "data": {
      "text/plain": [
       "{'title': \"Media Get a Close-Up of NASA's Mars 2020 Rover\",\n",
       " 'teaser': \"The clean room at NASA's Jet Propulsion Laboratory was open to the media to see NASA's next Mars explorer before it leaves for Florida in preparation for a summertime launch.\",\n",
       " 'reference': 'mars.nasa.gov/news/8578/media-get-a-close-up-of-nasas-mars-2020-rover/'}"
      ]
     },
     "execution_count": 76,
     "metadata": {},
     "output_type": "execute_result"
    }
   ],
   "source": [
    "top_data[0]"
   ]
  },
  {
   "cell_type": "code",
   "execution_count": 77,
   "metadata": {},
   "outputs": [
    {
     "data": {
      "text/plain": [
       "{'title': \"NASA's Mars 2020 Rover Does Biceps Curls \",\n",
       " 'teaser': \"In this time-lapse video, the robotic arm on NASA's Mars 2020 rover maneuvers its 88-pound (40-kilogram) sensor-laden turret as it moves from a deployed to stowed configuration.\",\n",
       " 'reference': 'mars.nasa.gov/news/8496/nasas-mars-2020-rover-does-biceps-curls/'}"
      ]
     },
     "execution_count": 77,
     "metadata": {},
     "output_type": "execute_result"
    }
   ],
   "source": [
    "top_data[40]"
   ]
  },
  {
   "cell_type": "markdown",
   "metadata": {},
   "source": [
    "# 2. JPL Mars Space Images"
   ]
  },
  {
   "cell_type": "markdown",
   "metadata": {},
   "source": [
    "### Url for Mars Image"
   ]
  },
  {
   "cell_type": "code",
   "execution_count": 86,
   "metadata": {},
   "outputs": [],
   "source": [
    "url_2 = 'https://www.jpl.nasa.gov/spaceimages/?search=&category=Mars'"
   ]
  },
  {
   "cell_type": "markdown",
   "metadata": {},
   "source": [
    "### Visit url with browser, then create BeautifulSoup object to grab image information."
   ]
  },
  {
   "cell_type": "code",
   "execution_count": 87,
   "metadata": {},
   "outputs": [],
   "source": [
    "browser.visit(url_2)"
   ]
  },
  {
   "cell_type": "code",
   "execution_count": 88,
   "metadata": {},
   "outputs": [],
   "source": [
    "html_2 = browser.html\n",
    "soup_2 = bs(html_2, 'html.parser')"
   ]
  },
  {
   "cell_type": "code",
   "execution_count": 161,
   "metadata": {},
   "outputs": [
    {
     "data": {
      "text/plain": [
       "[<article alt=\"A Tale of Two Worlds: Silicate Versus Carbon Planets (Artist Concept)\" class=\"carousel_item\" style=\"background-image: url('/spaceimages/images/wallpaper/PIA17550-1920x1200.jpg');\">\n",
       " <div class=\"default floating_text_area ms-layer\">\n",
       " <h2 class=\"category_title\">\n",
       " </h2>\n",
       " <h2 class=\"brand_title\">\n",
       " \t\t\t\t  FEATURED IMAGE\n",
       " \t\t\t\t</h2>\n",
       " <h1 class=\"media_feature_title\">\n",
       " \t\t\t\t  A Tale of Two Worlds: Silicate Versus Carbon Planets (Artist Concept)\t\t\t\t</h1>\n",
       " <div class=\"description\">\n",
       " </div>\n",
       " <footer>\n",
       " <a class=\"button fancybox\" data-description=\"This artist's concept illustrates the fate of two different planets: the one on the left is similar to Earth, made up largely of silicate-based rocks with oceans coating its surface.\" data-fancybox-group=\"images\" data-fancybox-href=\"/spaceimages/images/mediumsize/PIA17550_ip.jpg\" data-link=\"/spaceimages/details.php?id=PIA17550\" data-title=\"A Tale of Two Worlds: Silicate Versus Carbon Planets (Artist Concept)\" id=\"full_image\">\n",
       " \t\t\t\t\tFULL IMAGE\n",
       " \t\t\t\t  </a>\n",
       " </footer>\n",
       " </div>\n",
       " <div class=\"gradient_container_top\"></div>\n",
       " <div class=\"gradient_container_bottom\"></div>\n",
       " </article>]"
      ]
     },
     "execution_count": 161,
     "metadata": {},
     "output_type": "execute_result"
    }
   ],
   "source": [
    "raw_image_data = soup_2.find_all('article', class_=\"carousel_item\")\n",
    "raw_image_data"
   ]
  },
  {
   "cell_type": "markdown",
   "metadata": {},
   "source": [
    "### raw_image_data is a list, so take element [0] to extract string data on the 'style' tag. Extract the reference url for the full-size image and add the full information for generating the complete url. "
   ]
  },
  {
   "cell_type": "code",
   "execution_count": 176,
   "metadata": {},
   "outputs": [],
   "source": [
    "# Little tricky because only one element in list. j element ([0]) and isolate\n",
    "# the 'style' tag. The url is not a tag, so can't use it to isolate the url information.\n",
    "for j in raw_image_data:\n",
    "    raw_url = j['style']"
   ]
  },
  {
   "cell_type": "code",
   "execution_count": 177,
   "metadata": {},
   "outputs": [],
   "source": [
    "featured_image_url = 'jpl.nasa.gov' + raw_url.split(\"'\")[1]"
   ]
  },
  {
   "cell_type": "code",
   "execution_count": 178,
   "metadata": {},
   "outputs": [
    {
     "data": {
      "text/plain": [
       "'jpl.nasa.gov/spaceimages/images/wallpaper/PIA17550-1920x1200.jpg'"
      ]
     },
     "execution_count": 178,
     "metadata": {},
     "output_type": "execute_result"
    }
   ],
   "source": [
    "featured_image_url"
   ]
  },
  {
   "cell_type": "code",
   "execution_count": null,
   "metadata": {},
   "outputs": [],
   "source": []
  }
 ],
 "metadata": {
  "kernelspec": {
   "display_name": "Python 3",
   "language": "python",
   "name": "python3"
  },
  "language_info": {
   "codemirror_mode": {
    "name": "ipython",
    "version": 3
   },
   "file_extension": ".py",
   "mimetype": "text/x-python",
   "name": "python",
   "nbconvert_exporter": "python",
   "pygments_lexer": "ipython3",
   "version": "3.7.3"
  }
 },
 "nbformat": 4,
 "nbformat_minor": 2
}
