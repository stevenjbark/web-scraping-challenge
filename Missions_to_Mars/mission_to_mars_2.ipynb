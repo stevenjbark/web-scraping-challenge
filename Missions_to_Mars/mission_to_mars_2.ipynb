{
 "cells": [
  {
   "cell_type": "markdown",
   "metadata": {},
   "source": [
    "# Mission to Mars: Homework on Scraping and Web Analysis: Alternative Approach"
   ]
  },
  {
   "cell_type": "markdown",
   "metadata": {},
   "source": [
    "##Scrape https://mars.nasa.gov/news/ and collect News Titles and Paragraphs"
   ]
  },
  {
   "cell_type": "code",
   "execution_count": 8,
   "metadata": {},
   "outputs": [],
   "source": [
    "#Import dependencies. Will use pandas for processing, BeautifulSoup to grab data, requests to pull html text, and MongoDB\n",
    "#and Splinter for repository data storage.\n",
    "import pandas as pd\n",
    "from bs4 import BeautifulSoup as bs\n",
    "import requests\n",
    "import pymongo\n",
    "from splinter import Browser"
   ]
  },
  {
   "cell_type": "code",
   "execution_count": 9,
   "metadata": {},
   "outputs": [],
   "source": [
    "executable_path = {'executable_path': 'chromedriver.exe'}\n",
    "browser = Browser('chrome', **executable_path, headless=False)"
   ]
  },
  {
   "cell_type": "markdown",
   "metadata": {},
   "source": [
    "### URL for collecting html data on Mars"
   ]
  },
  {
   "cell_type": "code",
   "execution_count": 11,
   "metadata": {},
   "outputs": [],
   "source": [
    "url = \"https://mars.nasa.gov/news\""
   ]
  },
  {
   "cell_type": "code",
   "execution_count": 12,
   "metadata": {},
   "outputs": [],
   "source": [
    "###Tried a request approach, but didn't give all of the data. Chris suggested splinter approach.\n",
    "###Setup response variables to collect url html data. Then convert to BeautifulSoup object and\n",
    "###extract the titles and teaser by 'div' and 'content_title' and 'rollover_description_inner'."
   ]
  },
  {
   "cell_type": "markdown",
   "metadata": {},
   "source": [
    "### Browser.visit to view URL "
   ]
  },
  {
   "cell_type": "code",
   "execution_count": 13,
   "metadata": {},
   "outputs": [],
   "source": [
    "browser.visit(url)"
   ]
  },
  {
   "cell_type": "markdown",
   "metadata": {},
   "source": [
    "### Alternative approach: Grab data from 'li' tags as a list, then iterate to extract title, paragraph text, and reference for making a list of dictionaries suitable for MongoDB."
   ]
  },
  {
   "cell_type": "code",
   "execution_count": 32,
   "metadata": {},
   "outputs": [],
   "source": [
    "#Alternative try to grab <li> tags, which have all of the articles.\n",
    "#Then use iteration for loop to extract the title, teaser paragraph, and reference.\n",
    "\n",
    "#Empty list for appending dictionaries of data for articles.\n",
    "top_data = []\n",
    "\n",
    "\n",
    "#for x in range(1,4):\n",
    "    \n",
    "html = browser.html\n",
    "soup = bs(html, 'html.parser')\n",
    "\n",
    "init_data = soup.find_all('li', class_='slide')\n",
    "\n",
    "#Construct a list of dictionaries with these data for incorporation into MongoDB. Include\n",
    "#'mars.nasa.gov' to enable direct use of the reference as a URL.\n",
    "for item in init_data:\n",
    "    title = item.find('div', class_='content_title').text\n",
    "    teaser = item.find('div', class_='rollover_description_inner').text\n",
    "    ref = 'mars.nasa.gov' + item.a['href']\n",
    "    \n",
    "    dictionary = {\n",
    "        'title': title,\n",
    "        'teaser': teaser,\n",
    "        'reference': ref  \n",
    "    }\n",
    "    \n",
    "    top_data.append(dictionary)\n",
    "    \n",
    "#browser.click_link_by_partial_text('More')\n",
    "#This range/browser.click_link for 'More' didn't seem to work. I was able to manually\n",
    "#click the More link and obtain a lot more articles. There should be a way to adapt\n",
    "#the click_link_by_partial_text('More') to obtain a given number of articles."
   ]
  },
  {
   "cell_type": "markdown",
   "metadata": {},
   "source": [
    "### Check top_data list of dictionaries to confirm formatting and data"
   ]
  },
  {
   "cell_type": "code",
   "execution_count": 33,
   "metadata": {},
   "outputs": [
    {
     "data": {
      "text/plain": [
       "240"
      ]
     },
     "execution_count": 33,
     "metadata": {},
     "output_type": "execute_result"
    }
   ],
   "source": [
    "len(top_data)"
   ]
  },
  {
   "cell_type": "code",
   "execution_count": 35,
   "metadata": {},
   "outputs": [
    {
     "data": {
      "text/plain": [
       "{'title': \"Mars Volcano, Earth's Dinosaurs Went Extinct About the Same Time\",\n",
       " 'teaser': 'New NASA research reveals that the giant Martian volcano Arsia Mons produced one new lava flow at its summit every 1 to 3 million years during the final peak of activity.',\n",
       " 'reference': 'mars.nasa.gov/news/1972/mars-volcano-earths-dinosaurs-went-extinct-about-the-same-time/'}"
      ]
     },
     "execution_count": 35,
     "metadata": {},
     "output_type": "execute_result"
    }
   ],
   "source": [
    "top_data[239]"
   ]
  },
  {
   "cell_type": "code",
   "execution_count": null,
   "metadata": {},
   "outputs": [],
   "source": []
  }
 ],
 "metadata": {
  "kernelspec": {
   "display_name": "Python 3",
   "language": "python",
   "name": "python3"
  },
  "language_info": {
   "codemirror_mode": {
    "name": "ipython",
    "version": 3
   },
   "file_extension": ".py",
   "mimetype": "text/x-python",
   "name": "python",
   "nbconvert_exporter": "python",
   "pygments_lexer": "ipython3",
   "version": "3.7.3"
  }
 },
 "nbformat": 4,
 "nbformat_minor": 2
}
