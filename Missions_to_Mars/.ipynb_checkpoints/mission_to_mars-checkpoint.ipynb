{
 "cells": [
  {
   "cell_type": "markdown",
   "metadata": {},
   "source": [
    "#Mission to Mars: Homework on Scraping and Web Analysis "
   ]
  },
  {
   "cell_type": "markdown",
   "metadata": {},
   "source": [
    "##Scrape https://mars.nasa.gov/news/ and collect News Titles and Paragraphs"
   ]
  },
  {
   "cell_type": "code",
   "execution_count": 30,
   "metadata": {},
   "outputs": [],
   "source": [
    "#Import dependencies. Will use pandas for processing, BeautifulSoup to grab data, requests to pull html text, and MongoDB\n",
    "#and Splinter for repository data storage.\n",
    "import pandas as pd\n",
    "from bs4 import BeautifulSoup as bs\n",
    "import requests\n",
    "import pymongo\n",
    "from splinter import Browser"
   ]
  },
  {
   "cell_type": "code",
   "execution_count": 36,
   "metadata": {},
   "outputs": [],
   "source": [
    "executable_path = {'executable_path': 'chromedriver.exe'}\n",
    "browser = Browser('chrome', **executable_path, headless=False)"
   ]
  },
  {
   "cell_type": "code",
   "execution_count": 37,
   "metadata": {},
   "outputs": [],
   "source": [
    "###URL for collecting html data on Mars"
   ]
  },
  {
   "cell_type": "code",
   "execution_count": 134,
   "metadata": {},
   "outputs": [],
   "source": [
    "url = \"https://mars.nasa.gov/news\""
   ]
  },
  {
   "cell_type": "code",
   "execution_count": 135,
   "metadata": {},
   "outputs": [],
   "source": [
    "###Tried a request approach, but didn't give all of the data. Chris suggested splinter approach.\n",
    "###Setup response variables to collect url html data. Then convert to BeautifulSoup object and\n",
    "###extract the titles and teaser by 'div' and 'content_title' and 'rollover_description_inner'."
   ]
  },
  {
   "cell_type": "code",
   "execution_count": 136,
   "metadata": {},
   "outputs": [],
   "source": [
    "browser.visit(url)"
   ]
  },
  {
   "cell_type": "code",
   "execution_count": 163,
   "metadata": {},
   "outputs": [],
   "source": [
    "####Tried following the iteration approach from Chris. Website uses 'More' as an\n",
    "###indicator to load more articles.\n",
    "#for x in range(1,4):\n",
    "    \n",
    "html = browser.html\n",
    "soup = bs(html, 'html.parser')\n",
    "\n",
    "titles = soup.body.find_all('div', class_='content_title')\n",
    "teasers = soup.body.find_all('div', class_='rollover_description_inner')\n",
    "    \n",
    "#browser.click_link_by_partial_text('More')\n",
    "#This range/browser.click_link for 'More' didn't seem to work. I was able to manually\n",
    "#click the More link and obtain a lot more articles. There should be a way to adapt\n",
    "#the click_link_by_partial_text('More') to obtain a given number of articles."
   ]
  },
  {
   "cell_type": "code",
   "execution_count": 164,
   "metadata": {},
   "outputs": [
    {
     "data": {
      "text/plain": [
       "(450, 450)"
      ]
     },
     "execution_count": 164,
     "metadata": {},
     "output_type": "execute_result"
    }
   ],
   "source": [
    "len(titles), len(teasers)"
   ]
  },
  {
   "cell_type": "code",
   "execution_count": 165,
   "metadata": {},
   "outputs": [
    {
     "data": {
      "text/plain": [
       "'\\n\\nNASA Garners 7 Webby Award Nominations\\n\\n'"
      ]
     },
     "execution_count": 165,
     "metadata": {},
     "output_type": "execute_result"
    }
   ],
   "source": [
    "titles[445].text"
   ]
  },
  {
   "cell_type": "code",
   "execution_count": 171,
   "metadata": {},
   "outputs": [
    {
     "data": {
      "text/plain": [
       "'NASA and an international team of planetary scientists have found evidence in meteorites on Earth that indicates Mars has a distinct and global reservoir of water or ice near its surface.'"
      ]
     },
     "execution_count": 171,
     "metadata": {},
     "output_type": "execute_result"
    }
   ],
   "source": [
    "teasers[445].text"
   ]
  },
  {
   "cell_type": "code",
   "execution_count": 167,
   "metadata": {},
   "outputs": [],
   "source": [
    "top_data = []\n",
    "\n",
    "for y in range(len(titles)):\n",
    "    dictionary = {\n",
    "        'title': titles[y].text,\n",
    "        'teaser': teasers[y].text\n",
    "    }\n",
    "    \n",
    "    top_data.append(dictionary)\n"
   ]
  },
  {
   "cell_type": "code",
   "execution_count": 174,
   "metadata": {},
   "outputs": [
    {
     "data": {
      "text/plain": [
       "{'title': 'NASA to Hold Dec. 8 Media Teleconference on Mars Rover Curiosity Observations',\n",
       " 'teaser': \"NASA will host a media teleconference at 9 a.m. PST (noon EST) Monday, Dec. 8, to discuss geological observations made by NASA's Mars rover Curiosity.\"}"
      ]
     },
     "execution_count": 174,
     "metadata": {},
     "output_type": "execute_result"
    }
   ],
   "source": [
    "top_data[439]"
   ]
  },
  {
   "cell_type": "code",
   "execution_count": null,
   "metadata": {},
   "outputs": [],
   "source": []
  }
 ],
 "metadata": {
  "kernelspec": {
   "display_name": "Python 3",
   "language": "python",
   "name": "python3"
  },
  "language_info": {
   "codemirror_mode": {
    "name": "ipython",
    "version": 3
   },
   "file_extension": ".py",
   "mimetype": "text/x-python",
   "name": "python",
   "nbconvert_exporter": "python",
   "pygments_lexer": "ipython3",
   "version": "3.7.3"
  }
 },
 "nbformat": 4,
 "nbformat_minor": 2
}
