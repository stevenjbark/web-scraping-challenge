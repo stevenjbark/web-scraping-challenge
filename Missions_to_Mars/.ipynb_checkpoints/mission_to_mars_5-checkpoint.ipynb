{
 "cells": [
  {
   "cell_type": "markdown",
   "metadata": {},
   "source": [
    "# Mission to Mars: Homework on Scraping and Web Analysis: Alternative Approach"
   ]
  },
  {
   "cell_type": "markdown",
   "metadata": {},
   "source": [
    "##Scrape https://mars.nasa.gov/news/ and collect News Titles and Paragraphs"
   ]
  },
  {
   "cell_type": "code",
   "execution_count": 1,
   "metadata": {},
   "outputs": [],
   "source": [
    "#Import dependencies. Will use pandas for processing, BeautifulSoup to grab data, requests to pull html text, and MongoDB\n",
    "#and Splinter for repository data storage.\n",
    "import pandas as pd\n",
    "from bs4 import BeautifulSoup as bs\n",
    "import requests\n",
    "import pymongo\n",
    "from splinter import Browser"
   ]
  },
  {
   "cell_type": "code",
   "execution_count": 2,
   "metadata": {},
   "outputs": [],
   "source": [
    "executable_path = {'executable_path': 'chromedriver.exe'}\n",
    "browser = Browser('chrome', **executable_path, headless=False)"
   ]
  },
  {
   "cell_type": "code",
   "execution_count": 3,
   "metadata": {},
   "outputs": [
    {
     "name": "stdout",
     "output_type": "stream",
     "text": [
      "scraping started\n"
     ]
    }
   ],
   "source": [
    "print(\"scraping started\")"
   ]
  },
  {
   "cell_type": "markdown",
   "metadata": {},
   "source": [
    "# 1. Mars News Articles"
   ]
  },
  {
   "cell_type": "markdown",
   "metadata": {},
   "source": [
    "### URL for collecting html data on Mars"
   ]
  },
  {
   "cell_type": "code",
   "execution_count": 4,
   "metadata": {},
   "outputs": [],
   "source": [
    "url = \"https://mars.nasa.gov/news\""
   ]
  },
  {
   "cell_type": "markdown",
   "metadata": {},
   "source": [
    "### Browser.visit to view URL "
   ]
  },
  {
   "cell_type": "code",
   "execution_count": 5,
   "metadata": {},
   "outputs": [],
   "source": [
    "browser.visit(url)"
   ]
  },
  {
   "cell_type": "markdown",
   "metadata": {},
   "source": [
    "### Alternative approach: Grab data from 'li' tags as a list, then iterate to extract title, paragraph text, and reference for making a list of dictionaries suitable for MongoDB."
   ]
  },
  {
   "cell_type": "code",
   "execution_count": 6,
   "metadata": {},
   "outputs": [],
   "source": [
    "#Alternative try to grab <li> tags, which have all of the articles.\n",
    "#Then use iteration for loop to extract the title, teaser paragraph, and reference.\n",
    "#Empty list for appending dictionaries of data for articles.\n",
    "top_data = []\n",
    "\n",
    "#Iteration knowing 40 articles per page and target of 400 articles\n",
    "#for x in range(1,11):\n",
    "    \n",
    "html = browser.html\n",
    "soup = bs(html, 'html.parser')\n",
    "\n",
    "init_data = soup.find_all('li', class_='slide')\n",
    "\n",
    "#Construct a list of dictionaries with these data for incorporation into MongoDB. Include\n",
    "#'mars.nasa.gov' to enable direct use of the reference as a URL.\n",
    "for item in init_data:\n",
    "    title = item.find('div', class_='content_title').text\n",
    "    teaser = item.find('div', class_='rollover_description_inner').text\n",
    "    ref = 'mars.nasa.gov' + item.a['href']\n",
    "    \n",
    "    dictionary = {\n",
    "        'section': 'news',\n",
    "        'title': title,\n",
    "        'teaser': teaser,\n",
    "        'reference': ref  \n",
    "    }\n",
    "    \n",
    "    top_data.append(dictionary)"
   ]
  },
  {
   "cell_type": "markdown",
   "metadata": {},
   "source": [
    "### Check top_data list of dictionaries to confirm formatting and data"
   ]
  },
  {
   "cell_type": "code",
   "execution_count": 7,
   "metadata": {},
   "outputs": [
    {
     "data": {
      "text/plain": [
       "40"
      ]
     },
     "execution_count": 7,
     "metadata": {},
     "output_type": "execute_result"
    }
   ],
   "source": [
    "len(top_data)"
   ]
  },
  {
   "cell_type": "code",
   "execution_count": 8,
   "metadata": {},
   "outputs": [],
   "source": [
    "#top_data[0]"
   ]
  },
  {
   "cell_type": "code",
   "execution_count": 9,
   "metadata": {},
   "outputs": [],
   "source": [
    "#top_data[39]"
   ]
  },
  {
   "cell_type": "markdown",
   "metadata": {},
   "source": [
    "# 2. JPL Mars Space Images"
   ]
  },
  {
   "cell_type": "markdown",
   "metadata": {},
   "source": [
    "### Url for Mars Image"
   ]
  },
  {
   "cell_type": "code",
   "execution_count": 10,
   "metadata": {},
   "outputs": [],
   "source": [
    "url_2 = 'https://www.jpl.nasa.gov/spaceimages/?search=&category=Mars'"
   ]
  },
  {
   "cell_type": "markdown",
   "metadata": {},
   "source": [
    "### Visit url with browser, then create BeautifulSoup object to grab image information."
   ]
  },
  {
   "cell_type": "code",
   "execution_count": 11,
   "metadata": {},
   "outputs": [],
   "source": [
    "browser.visit(url_2)"
   ]
  },
  {
   "cell_type": "code",
   "execution_count": 12,
   "metadata": {},
   "outputs": [],
   "source": [
    "html_2 = browser.html\n",
    "soup_2 = bs(html_2, 'html.parser')"
   ]
  },
  {
   "cell_type": "code",
   "execution_count": 13,
   "metadata": {},
   "outputs": [],
   "source": [
    "raw_image_data = soup_2.find_all('article', class_=\"carousel_item\")\n",
    "#raw_image_data"
   ]
  },
  {
   "cell_type": "markdown",
   "metadata": {},
   "source": [
    "### raw_image_data is a list, so take element [0] to extract string data on the 'style' tag. Extract the reference url for the full-size image and add the full information for generating the complete url. "
   ]
  },
  {
   "cell_type": "code",
   "execution_count": 14,
   "metadata": {},
   "outputs": [],
   "source": [
    "# Little tricky because only one element in list. j element ([0]) and isolate\n",
    "# the 'style' tag. The url is not a tag, so can't use it to isolate the url information.\n",
    "for j in raw_image_data:\n",
    "    raw_url = j['style']"
   ]
  },
  {
   "cell_type": "code",
   "execution_count": 15,
   "metadata": {},
   "outputs": [],
   "source": [
    "featured_image_url = 'https://www.jpl.nasa.gov' + raw_url.split(\"'\")[1]"
   ]
  },
  {
   "cell_type": "code",
   "execution_count": 16,
   "metadata": {},
   "outputs": [
    {
     "data": {
      "text/plain": [
       "'https://www.jpl.nasa.gov/spaceimages/images/wallpaper/PIA18273-1920x1200.jpg'"
      ]
     },
     "execution_count": 16,
     "metadata": {},
     "output_type": "execute_result"
    }
   ],
   "source": [
    "featured_image_url"
   ]
  },
  {
   "cell_type": "markdown",
   "metadata": {},
   "source": [
    "### Create dictionary for featured image."
   ]
  },
  {
   "cell_type": "code",
   "execution_count": 17,
   "metadata": {},
   "outputs": [
    {
     "data": {
      "text/plain": [
       "{'featured_image_url': 'https://www.jpl.nasa.gov/spaceimages/images/wallpaper/PIA18273-1920x1200.jpg'}"
      ]
     },
     "execution_count": 17,
     "metadata": {},
     "output_type": "execute_result"
    }
   ],
   "source": [
    "featured_image_dict = {\n",
    "    #'section': 'featured_image',\n",
    "    'featured_image_url': featured_image_url\n",
    "}\n",
    "featured_image_dict"
   ]
  },
  {
   "cell_type": "markdown",
   "metadata": {},
   "source": [
    "# 3. Mars Weather"
   ]
  },
  {
   "cell_type": "markdown",
   "metadata": {},
   "source": [
    "### The url for Mars weather via twitter.com."
   ]
  },
  {
   "cell_type": "code",
   "execution_count": 18,
   "metadata": {},
   "outputs": [],
   "source": [
    "url_3 = 'https://twitter.com/marswxreport?lang=en'"
   ]
  },
  {
   "cell_type": "code",
   "execution_count": 19,
   "metadata": {},
   "outputs": [],
   "source": [
    "browser.visit(url_3)"
   ]
  },
  {
   "cell_type": "markdown",
   "metadata": {},
   "source": [
    "### Setup browser.html and create BeautifulSoup object for parsing."
   ]
  },
  {
   "cell_type": "code",
   "execution_count": 20,
   "metadata": {},
   "outputs": [],
   "source": [
    "html_3 = browser.html\n",
    "soup_3 = bs(html_3, 'html.parser')"
   ]
  },
  {
   "cell_type": "markdown",
   "metadata": {},
   "source": [
    "### In other cases, used find_all to get all instances. I think this time we want the most recent weather data, so used .find. "
   ]
  },
  {
   "cell_type": "code",
   "execution_count": 21,
   "metadata": {},
   "outputs": [
    {
     "data": {
      "text/plain": [
       "<div class=\"js-tweet-text-container\">\n",
       "<p class=\"TweetTextSize TweetTextSize--normal js-tweet-text tweet-text\" data-aria-label-part=\"0\" lang=\"en\">InSight sol 400 (2020-01-11) low -99.1ºC (-146.5ºF) high -15.7ºC (3.8ºF)\n",
       "winds from the SSE at 5.5 m/s (12.3 mph) gusting to 22.3 m/s (49.9 mph)\n",
       "pressure at 6.40 hPa<a class=\"twitter-timeline-link u-hidden\" data-pre-embedded=\"true\" dir=\"ltr\" href=\"https://t.co/xYQHT9cdn5\">pic.twitter.com/xYQHT9cdn5</a></p>\n",
       "</div>"
      ]
     },
     "execution_count": 21,
     "metadata": {},
     "output_type": "execute_result"
    }
   ],
   "source": [
    "mars_weather_raw = soup_3.find('div', class_=\"js-tweet-text-container\")\n",
    "mars_weather_raw"
   ]
  },
  {
   "cell_type": "markdown",
   "metadata": {},
   "source": [
    "### Find nice image url for the Sol weather data. Twitter kept \"twitting out\" on me. Found a NASA website with data from the insight lander. 'https://mars.nasa.gov/layout/embed/image/insightweather/'"
   ]
  },
  {
   "cell_type": "markdown",
   "metadata": {},
   "source": [
    "### Extract current Mars weather from the twitter url current data."
   ]
  },
  {
   "cell_type": "code",
   "execution_count": 22,
   "metadata": {},
   "outputs": [
    {
     "data": {
      "text/plain": [
       "'InSight sol 400 (2020-01-11) low -99.1ºC (-146.5ºF) high -15.7ºC (3.8ºF), winds from the SSE at 5.5 m/s (12.3 mph) gusting to 22.3 m/s (49.9 mph), pressure at 6.40 hPa'"
      ]
     },
     "execution_count": 22,
     "metadata": {},
     "output_type": "execute_result"
    }
   ],
   "source": [
    "current_mars_weather = mars_weather_raw.p.text.replace('\\n', ', ').split('pic')[0]\n",
    "current_mars_weather"
   ]
  },
  {
   "cell_type": "markdown",
   "metadata": {},
   "source": [
    "### Create dictionary for these weather data."
   ]
  },
  {
   "cell_type": "code",
   "execution_count": 23,
   "metadata": {},
   "outputs": [],
   "source": [
    "mars_weather_dict = {\n",
    "    'section': 'weather',\n",
    "    'current_mars_weather': current_mars_weather\n",
    "}\n",
    "#mars_weather_dict"
   ]
  },
  {
   "cell_type": "markdown",
   "metadata": {},
   "source": [
    "# 4. Mars Facts "
   ]
  },
  {
   "cell_type": "markdown",
   "metadata": {},
   "source": [
    "### New url for Mars Facts Website "
   ]
  },
  {
   "cell_type": "code",
   "execution_count": 24,
   "metadata": {},
   "outputs": [],
   "source": [
    "url_4 = 'https://space-facts.com/mars/'"
   ]
  },
  {
   "cell_type": "markdown",
   "metadata": {},
   "source": [
    "### Use Pandas to extract table information and reference for inclusion in website."
   ]
  },
  {
   "cell_type": "code",
   "execution_count": 25,
   "metadata": {},
   "outputs": [],
   "source": [
    "tables = pd.read_html(url_4)"
   ]
  },
  {
   "cell_type": "code",
   "execution_count": 26,
   "metadata": {},
   "outputs": [
    {
     "data": {
      "text/plain": [
       "3"
      ]
     },
     "execution_count": 26,
     "metadata": {},
     "output_type": "execute_result"
    }
   ],
   "source": [
    "len(tables)"
   ]
  },
  {
   "cell_type": "code",
   "execution_count": 27,
   "metadata": {},
   "outputs": [],
   "source": [
    "# Tables[0] and [1] have relevant data for use."
   ]
  },
  {
   "cell_type": "code",
   "execution_count": 28,
   "metadata": {},
   "outputs": [],
   "source": [
    "mars_data = tables[0]"
   ]
  },
  {
   "cell_type": "code",
   "execution_count": 29,
   "metadata": {},
   "outputs": [],
   "source": [
    "mars_comparison_data = tables[1]"
   ]
  },
  {
   "cell_type": "code",
   "execution_count": 30,
   "metadata": {},
   "outputs": [],
   "source": [
    "# Rename columns and set index to Parameters"
   ]
  },
  {
   "cell_type": "code",
   "execution_count": 31,
   "metadata": {},
   "outputs": [],
   "source": [
    "renamed_mars_data = mars_data.rename(columns = {0: 'Parameters', 1: 'Measurements'})\n",
    "#renamed_mars_data"
   ]
  },
  {
   "cell_type": "code",
   "execution_count": 32,
   "metadata": {},
   "outputs": [],
   "source": [
    "#mars_comparison_data"
   ]
  },
  {
   "cell_type": "markdown",
   "metadata": {},
   "source": [
    "### Export dataframes as html formatted tables."
   ]
  },
  {
   "cell_type": "code",
   "execution_count": 33,
   "metadata": {},
   "outputs": [],
   "source": [
    "renamed_mars_data.to_html('Mars_Data_Table.html')"
   ]
  },
  {
   "cell_type": "code",
   "execution_count": 34,
   "metadata": {},
   "outputs": [],
   "source": [
    "mars_comparison_data.to_html('Mars_Earth_Comparison_Data.html')"
   ]
  },
  {
   "cell_type": "markdown",
   "metadata": {},
   "source": [
    "### Create list of dictionaries for mars data"
   ]
  },
  {
   "cell_type": "code",
   "execution_count": 35,
   "metadata": {},
   "outputs": [],
   "source": [
    "mars_data = [\n",
    "    {\n",
    "    'section': 'data_table',\n",
    "    'data_table_1': 'Mars_Data.html'\n",
    "    },\n",
    "    {\n",
    "    'section': 'data_table',\n",
    "    'data_table_2': 'Mars_Earth_Comparison_Data.html'   \n",
    "    }\n",
    "]\n",
    "#mars_data"
   ]
  },
  {
   "cell_type": "markdown",
   "metadata": {},
   "source": [
    "# 5. Mars Hemispheres"
   ]
  },
  {
   "cell_type": "markdown",
   "metadata": {},
   "source": [
    "### URLs for high resolution images of Martian hemispheres. Attepmted to find a single webpage with all of these links, but did not find one. Will have to scrape each individual webpage, one for each Martian hemisphere. Main URL for website below."
   ]
  },
  {
   "cell_type": "code",
   "execution_count": 36,
   "metadata": {},
   "outputs": [],
   "source": [
    "#url_5 = 'https://astrogeology.usgs.gov/search/results?q=hemisphere+enhanced&k1=target&v1=Mars'"
   ]
  },
  {
   "cell_type": "markdown",
   "metadata": {},
   "source": [
    "### Cerberus Hemisphere Enhanced"
   ]
  },
  {
   "cell_type": "code",
   "execution_count": 37,
   "metadata": {},
   "outputs": [],
   "source": [
    "url_5a = 'https://astrogeology.usgs.gov/search/map/Mars/Viking/cerberus_enhanced'"
   ]
  },
  {
   "cell_type": "code",
   "execution_count": 38,
   "metadata": {},
   "outputs": [],
   "source": [
    "browser.visit(url_5a)"
   ]
  },
  {
   "cell_type": "code",
   "execution_count": 39,
   "metadata": {},
   "outputs": [],
   "source": [
    "html_5a = browser.html\n",
    "soup_5a = bs(html_5a, 'html.parser')"
   ]
  },
  {
   "cell_type": "code",
   "execution_count": 40,
   "metadata": {},
   "outputs": [],
   "source": [
    "cerberus_raw = soup_5a.find_all('img', class_=\"wide-image\")"
   ]
  },
  {
   "cell_type": "code",
   "execution_count": 41,
   "metadata": {},
   "outputs": [],
   "source": [
    "for data in cerberus_raw:\n",
    "    cerberus_url = 'https://astrogeology.usgs.gov' + data['src']"
   ]
  },
  {
   "cell_type": "code",
   "execution_count": 42,
   "metadata": {},
   "outputs": [
    {
     "data": {
      "text/plain": [
       "'https://astrogeology.usgs.gov/cache/images/cfa62af2557222a02478f1fcd781d445_cerberus_enhanced.tif_full.jpg'"
      ]
     },
     "execution_count": 42,
     "metadata": {},
     "output_type": "execute_result"
    }
   ],
   "source": [
    "cerberus_url"
   ]
  },
  {
   "cell_type": "markdown",
   "metadata": {},
   "source": [
    "### Schiaparelli Hemisphere Enhanced"
   ]
  },
  {
   "cell_type": "code",
   "execution_count": 43,
   "metadata": {},
   "outputs": [],
   "source": [
    "url_5b = 'https://astrogeology.usgs.gov/search/map/Mars/Viking/schiaparelli_enhanced'"
   ]
  },
  {
   "cell_type": "code",
   "execution_count": 44,
   "metadata": {},
   "outputs": [],
   "source": [
    "browser.visit(url_5b)"
   ]
  },
  {
   "cell_type": "code",
   "execution_count": 45,
   "metadata": {},
   "outputs": [],
   "source": [
    "html_5b = browser.html\n",
    "soup_5b = bs(html_5b, 'html.parser')"
   ]
  },
  {
   "cell_type": "code",
   "execution_count": 46,
   "metadata": {},
   "outputs": [],
   "source": [
    "schiaparelli_raw = soup_5b.find_all('img', class_=\"wide-image\")"
   ]
  },
  {
   "cell_type": "code",
   "execution_count": 47,
   "metadata": {},
   "outputs": [],
   "source": [
    "for data in schiaparelli_raw:\n",
    "    schiaparelli_url = 'https://astrogeology.usgs.gov' + data['src']"
   ]
  },
  {
   "cell_type": "code",
   "execution_count": 48,
   "metadata": {},
   "outputs": [
    {
     "data": {
      "text/plain": [
       "'https://astrogeology.usgs.gov/cache/images/3cdd1cbf5e0813bba925c9030d13b62e_schiaparelli_enhanced.tif_full.jpg'"
      ]
     },
     "execution_count": 48,
     "metadata": {},
     "output_type": "execute_result"
    }
   ],
   "source": [
    "schiaparelli_url"
   ]
  },
  {
   "cell_type": "markdown",
   "metadata": {},
   "source": [
    "### Syrtis Major Hemisphere Enhanced "
   ]
  },
  {
   "cell_type": "code",
   "execution_count": 49,
   "metadata": {},
   "outputs": [],
   "source": [
    "url_5c = 'https://astrogeology.usgs.gov/search/map/Mars/Viking/syrtis_major_enhanced'"
   ]
  },
  {
   "cell_type": "code",
   "execution_count": 50,
   "metadata": {},
   "outputs": [],
   "source": [
    "browser.visit(url_5c)"
   ]
  },
  {
   "cell_type": "code",
   "execution_count": 51,
   "metadata": {},
   "outputs": [],
   "source": [
    "html_5c = browser.html\n",
    "soup_5c = bs(html_5c, 'html.parser')"
   ]
  },
  {
   "cell_type": "code",
   "execution_count": 52,
   "metadata": {},
   "outputs": [],
   "source": [
    "syrtis_major_raw = soup_5c.find_all('img', class_=\"wide-image\")"
   ]
  },
  {
   "cell_type": "code",
   "execution_count": 53,
   "metadata": {},
   "outputs": [],
   "source": [
    "for data in syrtis_major_raw:\n",
    "    syrtis_major_url = 'https://astrogeology.usgs.gov' + data['src']"
   ]
  },
  {
   "cell_type": "code",
   "execution_count": 54,
   "metadata": {},
   "outputs": [
    {
     "data": {
      "text/plain": [
       "'https://astrogeology.usgs.gov/cache/images/ae209b4e408bb6c3e67b6af38168cf28_syrtis_major_enhanced.tif_full.jpg'"
      ]
     },
     "execution_count": 54,
     "metadata": {},
     "output_type": "execute_result"
    }
   ],
   "source": [
    "syrtis_major_url"
   ]
  },
  {
   "cell_type": "markdown",
   "metadata": {},
   "source": [
    "### Valles Marineris Hemisphere Enhanced"
   ]
  },
  {
   "cell_type": "code",
   "execution_count": 55,
   "metadata": {},
   "outputs": [],
   "source": [
    "url_5d = 'https://astrogeology.usgs.gov/search/map/Mars/Viking/valles_marineris_enhanced'"
   ]
  },
  {
   "cell_type": "code",
   "execution_count": 56,
   "metadata": {},
   "outputs": [],
   "source": [
    "browser.visit(url_5d)"
   ]
  },
  {
   "cell_type": "code",
   "execution_count": 57,
   "metadata": {},
   "outputs": [],
   "source": [
    "html_5d = browser.html\n",
    "soup_5d = bs(html_5d, 'html.parser')"
   ]
  },
  {
   "cell_type": "code",
   "execution_count": 58,
   "metadata": {},
   "outputs": [],
   "source": [
    "valles_marineris_raw = soup_5d.find_all('img', class_=\"wide-image\")"
   ]
  },
  {
   "cell_type": "code",
   "execution_count": 59,
   "metadata": {},
   "outputs": [],
   "source": [
    "for data in valles_marineris_raw:\n",
    "    valles_marineris_url = 'https://astrogeology.usgs.gov' + data['src']"
   ]
  },
  {
   "cell_type": "code",
   "execution_count": 60,
   "metadata": {},
   "outputs": [
    {
     "data": {
      "text/plain": [
       "'https://astrogeology.usgs.gov/cache/images/7cf2da4bf549ed01c17f206327be4db7_valles_marineris_enhanced.tif_full.jpg'"
      ]
     },
     "execution_count": 60,
     "metadata": {},
     "output_type": "execute_result"
    }
   ],
   "source": [
    "valles_marineris_url"
   ]
  },
  {
   "cell_type": "markdown",
   "metadata": {},
   "source": [
    "## Construct image titles and url's list of dictionaries"
   ]
  },
  {
   "cell_type": "code",
   "execution_count": 61,
   "metadata": {},
   "outputs": [],
   "source": [
    "titles = ['Cerberus Hemisphere Enhanced', 'Schiaparelli Hemisphere Enhanced', 'Syrtis Major Hemisphere Enhanced', 'Valles Marineris Hemisphere Enhanced']\n",
    "urls = [cerberus_url, schiaparelli_url, syrtis_major_url, valles_marineris_url]\n",
    "\n",
    "image_urls= []\n",
    "\n",
    "for x in range(len(titles)):\n",
    "    dictionary = {\n",
    "    'section': 'hemispheres',\n",
    "    'hemisphere': titles[x],\n",
    "    'image_url': urls[x]    \n",
    "    }\n",
    "    \n",
    "    image_urls.append(dictionary)\n"
   ]
  },
  {
   "cell_type": "code",
   "execution_count": 62,
   "metadata": {},
   "outputs": [
    {
     "data": {
      "text/plain": [
       "[{'section': 'hemispheres',\n",
       "  'hemisphere': 'Cerberus Hemisphere Enhanced',\n",
       "  'image_url': 'https://astrogeology.usgs.gov/cache/images/cfa62af2557222a02478f1fcd781d445_cerberus_enhanced.tif_full.jpg'},\n",
       " {'section': 'hemispheres',\n",
       "  'hemisphere': 'Schiaparelli Hemisphere Enhanced',\n",
       "  'image_url': 'https://astrogeology.usgs.gov/cache/images/3cdd1cbf5e0813bba925c9030d13b62e_schiaparelli_enhanced.tif_full.jpg'},\n",
       " {'section': 'hemispheres',\n",
       "  'hemisphere': 'Syrtis Major Hemisphere Enhanced',\n",
       "  'image_url': 'https://astrogeology.usgs.gov/cache/images/ae209b4e408bb6c3e67b6af38168cf28_syrtis_major_enhanced.tif_full.jpg'},\n",
       " {'section': 'hemispheres',\n",
       "  'hemisphere': 'Valles Marineris Hemisphere Enhanced',\n",
       "  'image_url': 'https://astrogeology.usgs.gov/cache/images/7cf2da4bf549ed01c17f206327be4db7_valles_marineris_enhanced.tif_full.jpg'}]"
      ]
     },
     "execution_count": 62,
     "metadata": {},
     "output_type": "execute_result"
    }
   ],
   "source": [
    "image_urls"
   ]
  },
  {
   "cell_type": "markdown",
   "metadata": {},
   "source": [
    "# 6. Combine all Dictionaries and Lists of Dictionaries into a single list of dictionaries: total_mars_data."
   ]
  },
  {
   "cell_type": "markdown",
   "metadata": {},
   "source": [
    "### First construct a list to total_mars_data, then iterate through all other lists and dictionaries and append."
   ]
  },
  {
   "cell_type": "code",
   "execution_count": 63,
   "metadata": {},
   "outputs": [],
   "source": [
    "total_mars_data = []"
   ]
  },
  {
   "cell_type": "code",
   "execution_count": 64,
   "metadata": {},
   "outputs": [],
   "source": [
    "# top_data is a list of dictionaries with recent articles. Iterate through list and append dictionaries to total_mars_data list.\n",
    "for d in top_data:\n",
    "    total_mars_data.append(d)"
   ]
  },
  {
   "cell_type": "code",
   "execution_count": 65,
   "metadata": {},
   "outputs": [],
   "source": [
    "# next append featured_image_url dictionary\n",
    "total_mars_data.append(featured_image_dict)"
   ]
  },
  {
   "cell_type": "code",
   "execution_count": 66,
   "metadata": {},
   "outputs": [],
   "source": [
    "# next append mars_weather_dict\n",
    "total_mars_data.append(mars_weather_dict)"
   ]
  },
  {
   "cell_type": "code",
   "execution_count": 67,
   "metadata": {},
   "outputs": [],
   "source": [
    "# next append mars data table information by iteration as in top_data.\n",
    "for m in mars_data:\n",
    "    total_mars_data.append(m)"
   ]
  },
  {
   "cell_type": "code",
   "execution_count": 68,
   "metadata": {},
   "outputs": [],
   "source": [
    "# same approach as for top_data list.\n",
    "for u in image_urls:\n",
    "    total_mars_data.append(u)"
   ]
  },
  {
   "cell_type": "code",
   "execution_count": 69,
   "metadata": {},
   "outputs": [],
   "source": [
    "#total_mars_data"
   ]
  },
  {
   "cell_type": "code",
   "execution_count": 70,
   "metadata": {},
   "outputs": [
    {
     "data": {
      "text/plain": [
       "48"
      ]
     },
     "execution_count": 70,
     "metadata": {},
     "output_type": "execute_result"
    }
   ],
   "source": [
    "len(total_mars_data)"
   ]
  },
  {
   "cell_type": "markdown",
   "metadata": {},
   "source": [
    "# 7. Transfer the total_mars_data into a Mongo Database called Mars_DataDB"
   ]
  },
  {
   "cell_type": "markdown",
   "metadata": {},
   "source": [
    "### Initialize pymongo connection to mongod on local machine port localhost:27017(make certain mongod is running)"
   ]
  },
  {
   "cell_type": "code",
   "execution_count": 71,
   "metadata": {},
   "outputs": [],
   "source": [
    "conn = 'mongodb://localhost:27017'\n",
    "client = pymongo.MongoClient(conn)"
   ]
  },
  {
   "cell_type": "markdown",
   "metadata": {},
   "source": [
    "### Define database (Mars_DataDB) and collection (db.scraped_mars_data)"
   ]
  },
  {
   "cell_type": "code",
   "execution_count": 72,
   "metadata": {},
   "outputs": [],
   "source": [
    "db = client.Mars_DataDB\n",
    "collection = db.scraped_mars_data"
   ]
  },
  {
   "cell_type": "markdown",
   "metadata": {},
   "source": [
    "### Drop the data in collection before appending new data."
   ]
  },
  {
   "cell_type": "code",
   "execution_count": 73,
   "metadata": {},
   "outputs": [],
   "source": [
    "collection.drop()"
   ]
  },
  {
   "cell_type": "markdown",
   "metadata": {},
   "source": [
    "### Loop through total_mars_data and insert each dictionary into the scraped_mars_data collection. Note that a try/except error catching may be needed if some of the scraping data is not formatted correctly."
   ]
  },
  {
   "cell_type": "code",
   "execution_count": 74,
   "metadata": {},
   "outputs": [],
   "source": [
    "#try: (remember that for loop will need to be indented if try is used)\n",
    "for data in total_mars_data:\n",
    "    collection.insert_one(data)\n",
    "    \n",
    "#except (remember to enter the exception if try fails)"
   ]
  },
  {
   "cell_type": "markdown",
   "metadata": {},
   "source": [
    "### Checked MongoDB and confirmed Mars_DataDB and the scraped_mars_data collection were created and active. All data was inserted."
   ]
  },
  {
   "cell_type": "code",
   "execution_count": 75,
   "metadata": {},
   "outputs": [
    {
     "name": "stdout",
     "output_type": "stream",
     "text": [
      "scraping finished\n"
     ]
    }
   ],
   "source": [
    "print(\"scraping finished\")"
   ]
  },
  {
   "cell_type": "code",
   "execution_count": 76,
   "metadata": {},
   "outputs": [
    {
     "data": {
      "text/plain": [
       "[{'section': 'news',\n",
       "  'title': \"Media Get a Close-Up of NASA's Mars 2020 Rover\",\n",
       "  'teaser': \"The clean room at NASA's Jet Propulsion Laboratory was open to the media to see NASA's next Mars explorer before it leaves for Florida in preparation for a summertime launch.\",\n",
       "  'reference': 'mars.nasa.gov/news/8578/media-get-a-close-up-of-nasas-mars-2020-rover/',\n",
       "  '_id': ObjectId('5e1be623b720178851178652')},\n",
       " {'section': 'news',\n",
       "  'title': 'Space History Is Made in This NASA Robot Factory',\n",
       "  'teaser': \"From rockets to rovers, JPL's Spacecraft Assembly Facility has been at the center of robotic spaceflight. Here's a closer look at what makes it so special.\",\n",
       "  'reference': 'mars.nasa.gov/news/8575/space-history-is-made-in-this-nasa-robot-factory/',\n",
       "  '_id': ObjectId('5e1be623b720178851178653')},\n",
       " {'section': 'news',\n",
       "  'title': \"NASA's Mars 2020 Rover Completes Its First Drive\",\n",
       "  'teaser': 'In a 10-plus-hour marathon, the rover steered, turned and drove in 3-foot (1-meter) increments over small ramps.',\n",
       "  'reference': 'mars.nasa.gov/news/8573/nasas-mars-2020-rover-completes-its-first-drive/',\n",
       "  '_id': ObjectId('5e1be623b720178851178654')},\n",
       " {'section': 'news',\n",
       "  'title': \"NASA's Treasure Map for Water Ice on Mars\",\n",
       "  'teaser': 'A new study identifies frozen water just below the Martian surface, where astronauts could easily dig it up.',\n",
       "  'reference': 'mars.nasa.gov/news/8568/nasas-treasure-map-for-water-ice-on-mars/',\n",
       "  '_id': ObjectId('5e1be623b720178851178655')},\n",
       " {'section': 'news',\n",
       "  'title': 'Two Rovers to Roll on Mars Again: Curiosity and Mars 2020',\n",
       "  'teaser': 'They look like twins. But under the hood, the rover currently exploring the Red Planet and the one launching there this summer have distinct science tools and roles to play.',\n",
       "  'reference': 'mars.nasa.gov/news/8567/two-rovers-to-roll-on-mars-again-curiosity-and-mars-2020/',\n",
       "  '_id': ObjectId('5e1be623b720178851178656')},\n",
       " {'section': 'news',\n",
       "  'title': \"NASA's Briefcase-Size MarCO Satellite Picks Up Honors\",\n",
       "  'teaser': 'The twin spacecraft, the first of their kind to fly into deep space, earn a Laureate from Aviation Week & Space Technology.',\n",
       "  'reference': 'mars.nasa.gov/news/8561/nasas-briefcase-size-marco-satellite-picks-up-honors/',\n",
       "  '_id': ObjectId('5e1be623b720178851178657')},\n",
       " {'section': 'news',\n",
       "  'title': 'Global Storms on Mars Launch Dust Towers Into the Sky',\n",
       "  'teaser': 'A Mars Dust Tower Stands Out Dust storms are common on Mars. But every decade or so, something unpredictable happens: a series of runaway storms break out, covering the entire planet in a dusty haze.',\n",
       "  'reference': 'mars.nasa.gov/news/8558/global-storms-on-mars-launch-dust-towers-into-the-sky/',\n",
       "  '_id': ObjectId('5e1be623b720178851178658')},\n",
       " {'section': 'news',\n",
       "  'title': 'NASA Updates Mars 2020 Mission Environmental Review',\n",
       "  'teaser': 'NASA and the Department of Energy have completed a more detailed risk analysis for the Mars 2020 rover launch from Florida.',\n",
       "  'reference': 'mars.nasa.gov/news/8556/nasa-updates-mars-2020-mission-environmental-review/',\n",
       "  '_id': ObjectId('5e1be623b720178851178659')},\n",
       " {'section': 'news',\n",
       "  'title': 'Two of a Space Kind: Apollo 12 and Mars 2020',\n",
       "  'teaser': 'Apollo 12 and the upcoming Mars 2020 mission may be separated by half a century, but they share several goals unique in the annals of space exploration.',\n",
       "  'reference': 'mars.nasa.gov/news/8554/two-of-a-space-kind-apollo-12-and-mars-2020/',\n",
       "  '_id': ObjectId('5e1be623b72017885117865a')},\n",
       " {'section': 'news',\n",
       "  'title': 'Mars Scientists Investigate Ancient Life in Australia',\n",
       "  'teaser': \"Teams with NASA's Mars 2020 and ESA's ExoMars practiced hunting for fossilized microbial life in the Australian Outback in preparation for their Red Planet missions. \",\n",
       "  'reference': 'mars.nasa.gov/news/8551/mars-scientists-investigate-ancient-life-in-australia/',\n",
       "  '_id': ObjectId('5e1be623b72017885117865b')},\n",
       " {'section': 'news',\n",
       "  'title': \"NASA's Mars 2020 Will Hunt for Microscopic Fossils\",\n",
       "  'teaser': \"A new paper identifies a ring of minerals at the rover's landing site that are ideal for fossilizing microbial life.\",\n",
       "  'reference': 'mars.nasa.gov/news/8549/nasas-mars-2020-will-hunt-for-microscopic-fossils/',\n",
       "  '_id': ObjectId('5e1be623b72017885117865c')},\n",
       " {'section': 'news',\n",
       "  'title': 'With Mars Methane Mystery Unsolved, Curiosity Serves Scientists a New One: Oxygen',\n",
       "  'teaser': 'For the first time in the history of space exploration, scientists have measured the seasonal changes in the gases that fill the air directly above the surface of Gale Crater on Mars. ',\n",
       "  'reference': 'mars.nasa.gov/news/8548/with-mars-methane-mystery-unsolved-curiosity-serves-scientists-a-new-one-oxygen/',\n",
       "  '_id': ObjectId('5e1be623b72017885117865d')},\n",
       " {'section': 'news',\n",
       "  'title': \"NASA's Mars 2020 Heads Into the Test Chamber\",\n",
       "  'teaser': 'In this time-lapse video taken at JPL, engineers move the Mars 2020 rover into a large vacuum chamber for testing in Mars-like environmental conditions.',\n",
       "  'reference': 'mars.nasa.gov/news/8545/nasas-mars-2020-heads-into-the-test-chamber/',\n",
       "  '_id': ObjectId('5e1be623b72017885117865e')},\n",
       " {'section': 'news',\n",
       "  'title': \"Screening Soon: 'The Pathfinders' Trains Lens on Mars\",\n",
       "  'teaser': 'With the Mars 2020 mission ramping up, the documentary — the first of four about past JPL missions to the Red Planet to be shown at Caltech — tells a gripping backstory.',\n",
       "  'reference': 'mars.nasa.gov/news/8544/screening-soon-the-pathfinders-trains-lens-on-mars/',\n",
       "  '_id': ObjectId('5e1be623b72017885117865f')},\n",
       " {'section': 'news',\n",
       "  'title': \"InSight's 'Mole' Team Peers into the Pit\",\n",
       "  'teaser': 'Efforts to save the heat probe continue.',\n",
       "  'reference': 'mars.nasa.gov/news/8529/insights-mole-team-peers-into-the-pit/',\n",
       "  '_id': ObjectId('5e1be623b720178851178660')},\n",
       " {'section': 'news',\n",
       "  'title': \"Common Questions about InSight's 'Mole'\",\n",
       "  'teaser': 'There\\'s a new plan to get InSight\\'s \"mole\" moving again. The following Q&As with two members of the team answer some of the most common questions about the burrowing device, part of a science instrument called the Heat Flow and Physical Properties Package (HP3).',\n",
       "  'reference': 'mars.nasa.gov/news/8444/common-questions-about-insights-mole/',\n",
       "  '_id': ObjectId('5e1be623b720178851178661')},\n",
       " {'section': 'news',\n",
       "  'title': 'Mars 2020 Stands on Its Own Six Wheels',\n",
       "  'teaser': \"In time-lapse video, taken at JPL, captures the first time NASA's Mars 2020 rover carries its full weight on its legs and wheels.\",\n",
       "  'reference': 'mars.nasa.gov/news/8537/mars-2020-stands-on-its-own-six-wheels/',\n",
       "  '_id': ObjectId('5e1be623b720178851178662')},\n",
       " {'section': 'news',\n",
       "  'title': 'New Selfie Shows Curiosity, the Mars Chemist',\n",
       "  'teaser': 'The NASA rover performed a special chemistry experiment at the location captured in its newest self-portrait.',\n",
       "  'reference': 'mars.nasa.gov/news/8536/new-selfie-shows-curiosity-the-mars-chemist/',\n",
       "  '_id': ObjectId('5e1be623b720178851178663')},\n",
       " {'section': 'news',\n",
       "  'title': 'Naming a NASA Mars Rover Can Change Your Life',\n",
       "  'teaser': 'Want to name the robotic scientist NASA is sending to Mars in 2020? The student who named Curiosity — the rover currently exploring Mars — will tell you this is an opportunity worth taking.',\n",
       "  'reference': 'mars.nasa.gov/news/8534/naming-a-nasa-mars-rover-can-change-your-life/',\n",
       "  '_id': ObjectId('5e1be623b720178851178664')},\n",
       " {'section': 'news',\n",
       "  'title': 'Mars 2020 Unwrapped and Ready for More Testing',\n",
       "  'teaser': \"In time-lapse video, bunny-suited engineers remove the inner layer of protective foil on NASA's Mars 2020 rover after it was relocated for testing.\",\n",
       "  'reference': 'mars.nasa.gov/news/8531/mars-2020-unwrapped-and-ready-for-more-testing/',\n",
       "  '_id': ObjectId('5e1be623b720178851178665')},\n",
       " {'section': 'news',\n",
       "  'title': \"HiRISE Views NASA's InSight and Curiosity on Mars\",\n",
       "  'teaser': 'New images taken from space offer the clearest orbital glimpse yet of InSight as well as a view of Curiosity rolling along.',\n",
       "  'reference': 'mars.nasa.gov/news/8528/hirise-views-nasas-insight-and-curiosity-on-mars/',\n",
       "  '_id': ObjectId('5e1be623b720178851178666')},\n",
       " {'section': 'news',\n",
       "  'title': \"NASA's Curiosity Rover Finds an Ancient Oasis on Mars\",\n",
       "  'teaser': \"New evidence suggests salty, shallow ponds once dotted a Martian crater — a sign of the planet's drying climate.\",\n",
       "  'reference': 'mars.nasa.gov/news/8522/nasas-curiosity-rover-finds-an-ancient-oasis-on-mars/',\n",
       "  '_id': ObjectId('5e1be623b720178851178667')},\n",
       " {'section': 'news',\n",
       "  'title': \"NASA's Mars 2020 Rover Tests Descent-Stage Separation\",\n",
       "  'teaser': \"A crane lifts the rocket-powered descent stage away from NASA's Mars 2020 rover after technicians tested the pyrotechnic charges that separate the two spacecraft.\",\n",
       "  'reference': 'mars.nasa.gov/news/8520/nasas-mars-2020-rover-tests-descent-stage-separation/',\n",
       "  '_id': ObjectId('5e1be623b720178851178668')},\n",
       " {'section': 'news',\n",
       "  'title': \"NASA's Push to Save the Mars InSight Lander's Heat Probe\",\n",
       "  'teaser': \"The scoop on the end of the spacecraft's robotic arm will be used to 'pin' the mole against the wall of its hole.\",\n",
       "  'reference': 'mars.nasa.gov/news/8518/nasas-push-to-save-the-mars-insight-landers-heat-probe/',\n",
       "  '_id': ObjectId('5e1be623b720178851178669')},\n",
       " {'section': 'news',\n",
       "  'title': \"NASA's InSight 'Hears' Peculiar Sounds on Mars\",\n",
       "  'teaser': 'Listen to the marsquakes and other, less-expected sounds that the Mars lander has been detecting.',\n",
       "  'reference': 'mars.nasa.gov/news/8517/nasas-insight-hears-peculiar-sounds-on-mars/',\n",
       "  '_id': ObjectId('5e1be623b72017885117866a')},\n",
       " {'section': 'news',\n",
       "  'title': 'NASA Mars Mission Connects With Bosnian and Herzegovinian Town',\n",
       "  'teaser': 'A letter from NASA was presented to the mayor of Jezero, Bosnia-Herzegovina, honoring the connection between the town and Jezero Crater, the Mars 2020 rover landing site.',\n",
       "  'reference': 'mars.nasa.gov/news/8512/nasa-mars-mission-connects-with-bosnian-and-herzegovinian-town/',\n",
       "  '_id': ObjectId('5e1be623b72017885117866b')},\n",
       " {'section': 'news',\n",
       "  'title': \"Deadline Closing for Names to Fly on NASA's Next Mars Rover\",\n",
       "  'teaser': 'You have until Sept. 30 to send your names to Mars aboard the Mars 2020 rover. ',\n",
       "  'reference': 'mars.nasa.gov/news/8511/deadline-closing-for-names-to-fly-on-nasas-next-mars-rover/',\n",
       "  '_id': ObjectId('5e1be623b72017885117866c')},\n",
       " {'section': 'news',\n",
       "  'title': 'NASA Wins Two Emmy Awards for Interactive Mission Coverage',\n",
       "  'teaser': \"NASA-JPL's coverage of the Mars InSight landing earns one of the two wins, making this the NASA center's second Emmy.\",\n",
       "  'reference': 'mars.nasa.gov/news/8510/nasa-wins-two-emmy-awards-for-interactive-mission-coverage/',\n",
       "  '_id': ObjectId('5e1be623b72017885117866d')},\n",
       " {'section': 'news',\n",
       "  'title': \"NASA's Mars 2020 Comes Full Circle\",\n",
       "  'teaser': \"Aiming to pinpoint the Martian vehicle's center of gravity, engineers took NASA's 2,300-pound Mars 2020 rover for a spin in the clean room at JPL. \",\n",
       "  'reference': 'mars.nasa.gov/news/8509/nasas-mars-2020-comes-full-circle/',\n",
       "  '_id': ObjectId('5e1be623b72017885117866e')},\n",
       " {'section': 'news',\n",
       "  'title': 'NASA Invites Students to Name Mars 2020 Rover',\n",
       "  'teaser': \"Through Nov. 1, K-12 students in the U.S. are encouraged to enter an essay contest to name NASA's next Mars rover.\",\n",
       "  'reference': 'mars.nasa.gov/news/8508/nasa-invites-students-to-name-mars-2020-rover/',\n",
       "  '_id': ObjectId('5e1be623b72017885117866f')},\n",
       " {'section': 'news',\n",
       "  'title': \"NASA's Mars Helicopter Attached to Mars 2020 Rover \",\n",
       "  'teaser': 'The helicopter will be first aircraft to perform flight tests on another planet.',\n",
       "  'reference': 'mars.nasa.gov/news/8507/nasas-mars-helicopter-attached-to-mars-2020-rover/',\n",
       "  '_id': ObjectId('5e1be623b720178851178670')},\n",
       " {'section': 'news',\n",
       "  'title': \"What's Mars Solar Conjunction, and Why Does It Matter?\",\n",
       "  'teaser': 'NASA spacecraft at Mars are going to be on their own for a few weeks when the Sun comes between Mars and Earth, interrupting communications.',\n",
       "  'reference': 'mars.nasa.gov/news/8506/whats-mars-solar-conjunction-and-why-does-it-matter/',\n",
       "  '_id': ObjectId('5e1be623b720178851178671')},\n",
       " {'section': 'news',\n",
       "  'title': 'Scientists Explore Outback as Testbed for Mars ',\n",
       "  'teaser': \"Australia provides a great place for NASA's Mars 2020 and the ESA-Roscosmos ExoMars scientists to hone techniques in preparation for searching for signs ancient life on Mars.\",\n",
       "  'reference': 'mars.nasa.gov/news/8505/scientists-explore-outback-as-testbed-for-mars/',\n",
       "  '_id': ObjectId('5e1be623b720178851178672')},\n",
       " {'section': 'news',\n",
       "  'title': \"NASA-JPL Names 'Rolling Stones Rock' on Mars\",\n",
       "  'teaser': \"NASA's Mars InSight mission honored one of the biggest bands of all time at Pasadena concert.\",\n",
       "  'reference': 'mars.nasa.gov/news/8504/nasa-jpl-names-rolling-stones-rock-on-mars/',\n",
       "  '_id': ObjectId('5e1be623b720178851178673')},\n",
       " {'section': 'news',\n",
       "  'title': \"Robotic Toolkit Added to NASA's Mars 2020 Rover\",\n",
       "  'teaser': \"The bit carousel, which lies at the heart of the rover's Sample Caching System, is now aboard NASA's newest rover. \",\n",
       "  'reference': 'mars.nasa.gov/news/8503/robotic-toolkit-added-to-nasas-mars-2020-rover/',\n",
       "  '_id': ObjectId('5e1be623b720178851178674')},\n",
       " {'section': 'news',\n",
       "  'title': \"Space Samples Link NASA's Apollo 11 and Mars 2020\",\n",
       "  'teaser': \"While separated by half a century, NASA's Apollo 11 and Mars 2020 missions share the same historic goal: returning samples to Earth.\",\n",
       "  'reference': 'mars.nasa.gov/news/8502/space-samples-link-nasas-apollo-11-and-mars-2020/',\n",
       "  '_id': ObjectId('5e1be623b720178851178675')},\n",
       " {'section': 'news',\n",
       "  'title': 'Small Satellite Mission of the Year',\n",
       "  'teaser': 'The first interplanetary CubeSats were recognized by the engineering community with the 2019 Small Satellite Mission of the Year award.',\n",
       "  'reference': 'mars.nasa.gov/news/8501/small-satellite-mission-of-the-year/',\n",
       "  '_id': ObjectId('5e1be623b720178851178676')},\n",
       " {'section': 'news',\n",
       "  'title': \"NASA 'Optometrists' Verify Mars 2020 Rover's 20/20 Vision\",\n",
       "  'teaser': 'Mars 2020 rover underwent an eye exam after several cameras were installed on the rover.',\n",
       "  'reference': 'mars.nasa.gov/news/8499/nasa-optometrists-verify-mars-2020-rovers-2020-vision/',\n",
       "  '_id': ObjectId('5e1be623b720178851178677')},\n",
       " {'section': 'news',\n",
       "  'title': 'New Finds for Mars Rover, Seven Years After Landing',\n",
       "  'teaser': 'NASA\\'s Curiosity rover is discovering odd rocks halfway into a region called the \"clay-bearing unit.\"',\n",
       "  'reference': 'mars.nasa.gov/news/8498/new-finds-for-mars-rover-seven-years-after-landing/',\n",
       "  '_id': ObjectId('5e1be623b720178851178678')},\n",
       " {'section': 'news',\n",
       "  'title': 'MEDLI2 Installation on Mars 2020 Aeroshell Begins',\n",
       "  'teaser': \"Hardware installed onto NASA's Mars 2020 entry vehicle this week will help to increase the safety of future Mars landings.\",\n",
       "  'reference': 'mars.nasa.gov/news/8497/medli2-installation-on-mars-2020-aeroshell-begins/',\n",
       "  '_id': ObjectId('5e1be623b720178851178679')},\n",
       " {'featured_image_url': 'https://www.jpl.nasa.gov/spaceimages/images/wallpaper/PIA18273-1920x1200.jpg',\n",
       "  '_id': ObjectId('5e1be623b72017885117867a')},\n",
       " {'section': 'weather',\n",
       "  'current_mars_weather': 'InSight sol 400 (2020-01-11) low -99.1ºC (-146.5ºF) high -15.7ºC (3.8ºF), winds from the SSE at 5.5 m/s (12.3 mph) gusting to 22.3 m/s (49.9 mph), pressure at 6.40 hPa',\n",
       "  '_id': ObjectId('5e1be623b72017885117867b')},\n",
       " {'section': 'data_table',\n",
       "  'data_table_1': 'Mars_Data.html',\n",
       "  '_id': ObjectId('5e1be623b72017885117867c')},\n",
       " {'section': 'data_table',\n",
       "  'data_table_2': 'Mars_Earth_Comparison_Data.html',\n",
       "  '_id': ObjectId('5e1be623b72017885117867d')},\n",
       " {'section': 'hemispheres',\n",
       "  'hemisphere': 'Cerberus Hemisphere Enhanced',\n",
       "  'image_url': 'https://astrogeology.usgs.gov/cache/images/cfa62af2557222a02478f1fcd781d445_cerberus_enhanced.tif_full.jpg',\n",
       "  '_id': ObjectId('5e1be623b72017885117867e')},\n",
       " {'section': 'hemispheres',\n",
       "  'hemisphere': 'Schiaparelli Hemisphere Enhanced',\n",
       "  'image_url': 'https://astrogeology.usgs.gov/cache/images/3cdd1cbf5e0813bba925c9030d13b62e_schiaparelli_enhanced.tif_full.jpg',\n",
       "  '_id': ObjectId('5e1be623b72017885117867f')},\n",
       " {'section': 'hemispheres',\n",
       "  'hemisphere': 'Syrtis Major Hemisphere Enhanced',\n",
       "  'image_url': 'https://astrogeology.usgs.gov/cache/images/ae209b4e408bb6c3e67b6af38168cf28_syrtis_major_enhanced.tif_full.jpg',\n",
       "  '_id': ObjectId('5e1be623b720178851178680')},\n",
       " {'section': 'hemispheres',\n",
       "  'hemisphere': 'Valles Marineris Hemisphere Enhanced',\n",
       "  'image_url': 'https://astrogeology.usgs.gov/cache/images/7cf2da4bf549ed01c17f206327be4db7_valles_marineris_enhanced.tif_full.jpg',\n",
       "  '_id': ObjectId('5e1be623b720178851178681')}]"
      ]
     },
     "execution_count": 76,
     "metadata": {},
     "output_type": "execute_result"
    }
   ],
   "source": [
    "total_mars_data"
   ]
  },
  {
   "cell_type": "code",
   "execution_count": 77,
   "metadata": {},
   "outputs": [
    {
     "data": {
      "text/plain": [
       "{'featured_image_url': 'https://www.jpl.nasa.gov/spaceimages/images/wallpaper/PIA18273-1920x1200.jpg',\n",
       " '_id': ObjectId('5e1be623b72017885117867a')}"
      ]
     },
     "execution_count": 77,
     "metadata": {},
     "output_type": "execute_result"
    }
   ],
   "source": [
    "total_mars_data[40]"
   ]
  },
  {
   "cell_type": "code",
   "execution_count": null,
   "metadata": {},
   "outputs": [],
   "source": []
  }
 ],
 "metadata": {
  "kernelspec": {
   "display_name": "Python 3",
   "language": "python",
   "name": "python3"
  },
  "language_info": {
   "codemirror_mode": {
    "name": "ipython",
    "version": 3
   },
   "file_extension": ".py",
   "mimetype": "text/x-python",
   "name": "python",
   "nbconvert_exporter": "python",
   "pygments_lexer": "ipython3",
   "version": "3.7.3"
  }
 },
 "nbformat": 4,
 "nbformat_minor": 2
}
